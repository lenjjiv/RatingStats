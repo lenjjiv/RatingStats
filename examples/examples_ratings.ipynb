{
 "cells": [
  {
   "cell_type": "markdown",
   "metadata": {},
   "source": [
    "### Примеры расчёта доверительных интервалов"
   ]
  },
  {
   "cell_type": "code",
   "execution_count": 10,
   "metadata": {},
   "outputs": [],
   "source": [
    "import sys\n",
    "from pathlib import Path\n",
    "current_path = Path.cwd()\n",
    "project_path = current_path.parent\n",
    "sys.path.append(str(project_path))"
   ]
  },
  {
   "cell_type": "code",
   "execution_count": 11,
   "metadata": {},
   "outputs": [
    {
     "data": {
      "text/plain": [
       "{'mean': 1.25,\n",
       " 'p_hat': 0.625,\n",
       " 'max_rating': 2,\n",
       " 'p_hat_ci': (0.30574239460262737, 0.8631557141764026),\n",
       " 'std_error': 0.24206145913796356,\n",
       " 'counts': {0: 1, 1: 1, 2: 2},\n",
       " 'mean_ci': (0.6114847892052547, 1.7263114283528052),\n",
       " 'method': 'wilson'}"
      ]
     },
     "execution_count": 11,
     "metadata": {},
     "output_type": "execute_result"
    }
   ],
   "source": [
    "from rating_stats import calculate_ci_from_ratings\n",
    "\n",
    "# Из списка оценок\n",
    "ratings = [2, 1, 2, 0]\n",
    "result = calculate_ci_from_ratings(\n",
    "    ratings,\n",
    "    max_rating=2,\n",
    "    alpha=0.95,\n",
    "    method='wilson'\n",
    ")\n",
    "\n",
    "dict(result)"
   ]
  },
  {
   "cell_type": "markdown",
   "metadata": {},
   "source": [
    "### Доверительные интервалы из распределения оценок\n",
    "Распределение = гистограмма оценок."
   ]
  },
  {
   "cell_type": "code",
   "execution_count": 12,
   "metadata": {},
   "outputs": [
    {
     "data": {
      "text/plain": [
       "{'mean': 0.4666666666666667,\n",
       " 'p_hat': 0.23333333333333334,\n",
       " 'max_rating': 2,\n",
       " 'p_hat_ci': (0.11792388144489496, 0.40928326158122164),\n",
       " 'std_error': 0.10920588778049435,\n",
       " 'counts': {0: 10, 1: 3, 2: 2},\n",
       " 'mean_ci': (0.23584776288978992, 0.8185665231624433),\n",
       " 'method': 'wilson'}"
      ]
     },
     "execution_count": 12,
     "metadata": {},
     "output_type": "execute_result"
    }
   ],
   "source": [
    "from rating_stats import calculate_ci_from_counts\n",
    "\n",
    "distribution = {0: 10, 1: 3, 2: 2}\n",
    "result = calculate_ci_from_counts(\n",
    "    distribution,\n",
    "    max_rating=2,\n",
    "    alpha=0.95,\n",
    "    method='wilson'\n",
    ")\n",
    "\n",
    "dict(result)"
   ]
  }
 ],
 "metadata": {
  "kernelspec": {
   "display_name": "Python 3",
   "language": "python",
   "name": "python3"
  },
  "language_info": {
   "codemirror_mode": {
    "name": "ipython",
    "version": 3
   },
   "file_extension": ".py",
   "mimetype": "text/x-python",
   "name": "python",
   "nbconvert_exporter": "python",
   "pygments_lexer": "ipython3",
   "version": "3.9.6"
  }
 },
 "nbformat": 4,
 "nbformat_minor": 2
}
