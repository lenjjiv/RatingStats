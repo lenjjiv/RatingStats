{
 "cells": [
  {
   "cell_type": "markdown",
   "metadata": {
    "vscode": {
     "languageId": "bat"
    }
   },
   "source": [
    "### Пример работы с интервалами"
   ]
  },
  {
   "cell_type": "code",
   "execution_count": 2,
   "metadata": {},
   "outputs": [],
   "source": [
    "import sys\n",
    "from pathlib import Path\n",
    "current_path = Path.cwd()\n",
    "project_path = current_path.parent\n",
    "sys.path.append(str(project_path))"
   ]
  },
  {
   "cell_type": "code",
   "execution_count": 3,
   "metadata": {},
   "outputs": [
    {
     "name": "stdout",
     "output_type": "stream",
     "text": [
      "Two intervals:\n",
      "Interval 1: CompositeInterval(intervals=(0, 10))\n",
      "Interval 2: CompositeInterval(intervals=[(5, 15), (0, 1)])\n",
      "\n",
      "Similarities:\n",
      "Jaccard similarity: 0.4\n",
      "Hausdorff similarity: 1.0\n",
      "Overlap similarity: 0.6\n",
      "Mixed similarity: 0.76\n"
     ]
    }
   ],
   "source": [
    "from intervals_metrics import calculate_similarity, CompositeInterval\n",
    "\n",
    "int1 = (0, 10)  # Simple interval\n",
    "int2 = [(5, 15), (0, 1)]  # Composite interval\n",
    "\n",
    "# Calculate similarity between two intervals\n",
    "print(\"Two intervals:\")\n",
    "print(f\"Interval 1: {CompositeInterval(int1)}\")\n",
    "print(f\"Interval 2: {CompositeInterval(int2)}\")\n",
    "\n",
    "print('\\nSimilarities:')\n",
    "sim = calculate_similarity(int1, int2, method='jaccard')\n",
    "print(f\"Jaccard similarity: {sim}\")\n",
    "\n",
    "sim = calculate_similarity(int1, int2, method='hausdorff')\n",
    "print(f\"Hausdorff similarity: {sim}\")\n",
    "\n",
    "sim = calculate_similarity(int1, int2, method='overlap')\n",
    "print(f\"Overlap similarity: {sim}\")\n",
    "\n",
    "sim = calculate_similarity(\n",
    "    int1, int2, \n",
    "    method='mixed',\n",
    "    methods=['jaccard', 'hausdorff', 'overlap'], \n",
    "    weights=[2, 5, 3]\n",
    ")\n",
    "print(f\"Mixed similarity: {sim}\")"
   ]
  },
  {
   "cell_type": "markdown",
   "metadata": {},
   "source": [
    "### Пример построения матрицы сходств"
   ]
  },
  {
   "cell_type": "code",
   "execution_count": 4,
   "metadata": {},
   "outputs": [
    {
     "name": "stdout",
     "output_type": "stream",
     "text": [
      "\n",
      "Similarity matrix:\n",
      "[[1.         0.5        0.4        0.        ]\n",
      " [0.5        1.         0.45454545 0.        ]\n",
      " [0.4        0.45454545 1.         0.        ]\n",
      " [0.         0.         0.         1.        ]]\n",
      "\n",
      "Mixed similarity matrix:\n",
      "[[1.         0.55       0.46       0.07142857]\n",
      " [0.55       1.         0.50909091 0.06666667]\n",
      " [0.46       0.50909091 1.         0.08571429]\n",
      " [0.07142857 0.06666667 0.08571429 1.        ]]\n"
     ]
    }
   ],
   "source": [
    "from intervals_metrics import calculate_similarity_matrix\n",
    "\n",
    "intervals = [\n",
    "    (0, 10),\n",
    "    (5, 10),\n",
    "    [(5, 15), (0, 1)],\n",
    "    [(20, 30), (25, 35)]\n",
    "]\n",
    "\n",
    "print(\"\\nSimilarity matrix:\")\n",
    "sim_matrix = calculate_similarity_matrix(intervals, method='jaccard')\n",
    "print(sim_matrix)\n",
    "\n",
    "print(\"\\nMixed similarity matrix:\")\n",
    "mixed_matrix = calculate_similarity_matrix(\n",
    "    intervals,\n",
    "    method='mixed',\n",
    "    methods=['hausdorff', 'jaccard'],\n",
    "    weights=[10, 90]\n",
    ")\n",
    "print(mixed_matrix)"
   ]
  },
  {
   "cell_type": "markdown",
   "metadata": {},
   "source": [
    "### Пример добавления новой метрики (имя парсится из имени класса):"
   ]
  },
  {
   "cell_type": "code",
   "execution_count": 5,
   "metadata": {},
   "outputs": [
    {
     "name": "stdout",
     "output_type": "stream",
     "text": [
      "Cosine similarity: 0.5720775535473553\n"
     ]
    }
   ],
   "source": [
    "from intervals_metrics import register_similarity_method, IntervalSimilarityMethod\n",
    "from intervals_metrics import CompositeInterval\n",
    "import numpy as np\n",
    "\n",
    "@register_similarity_method\n",
    "class CosineMethod(IntervalSimilarityMethod):\n",
    "    def calculate(self, int1: CompositeInterval, int2: CompositeInterval, **kwargs) -> float:\n",
    "        \"\"\"\n",
    "        Calculate cosine similarity by treating intervals as binary vectors\n",
    "        over their union domain\n",
    "        \"\"\"\n",
    "        # Это просто пример – реализуйте здесь свою метрику\n",
    "        intersection = int1.intersection(int2)\n",
    "        if intersection == 0:\n",
    "            return 0\n",
    "        return float(intersection / (np.sqrt(int1.length() * int2.length())))\n",
    "    \n",
    "\n",
    "int1 = (0, 10)\n",
    "int2 = [(5, 15), (0, 1)]\n",
    "\n",
    "sim = calculate_similarity(int1, int2, method='cosine')\n",
    "print(f\"Cosine similarity: {sim}\")"
   ]
  }
 ],
 "metadata": {
  "kernelspec": {
   "display_name": "Python 3",
   "language": "python",
   "name": "python3"
  },
  "language_info": {
   "codemirror_mode": {
    "name": "ipython",
    "version": 3
   },
   "file_extension": ".py",
   "mimetype": "text/x-python",
   "name": "python",
   "nbconvert_exporter": "python",
   "pygments_lexer": "ipython3",
   "version": "3.9.6"
  }
 },
 "nbformat": 4,
 "nbformat_minor": 2
}
